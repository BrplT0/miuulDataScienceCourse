{
 "cells": [
  {
   "cell_type": "code",
   "id": "initial_id",
   "metadata": {
    "collapsed": true,
    "ExecuteTime": {
     "end_time": "2025-09-18T21:22:57.194115Z",
     "start_time": "2025-09-18T21:22:57.179507Z"
    }
   },
   "source": [
    "import seaborn as sns\n",
    "\n",
    "df = sns.load_dataset(\"car_crashes\")\n",
    "df.columns"
   ],
   "outputs": [
    {
     "data": {
      "text/plain": [
       "Index(['total', 'speeding', 'alcohol', 'not_distracted', 'no_previous',\n",
       "       'ins_premium', 'ins_losses', 'abbrev'],\n",
       "      dtype='object')"
      ]
     },
     "execution_count": 11,
     "metadata": {},
     "output_type": "execute_result"
    }
   ],
   "execution_count": 11
  },
  {
   "metadata": {
    "ExecuteTime": {
     "end_time": "2025-09-18T21:27:28.845102Z",
     "start_time": "2025-09-18T21:27:28.839017Z"
    }
   },
   "cell_type": "code",
   "source": [
    "df.columns = df.columns.str.upper()\n",
    "df.columns = [\"NUM_\" + col.upper() if df[col].dtype.kind in 'biufc' else col.upper() for col in df.columns]"
   ],
   "id": "c39880355abea7f2",
   "outputs": [],
   "execution_count": 14
  },
  {
   "metadata": {
    "ExecuteTime": {
     "end_time": "2025-09-18T21:27:35.826242Z",
     "start_time": "2025-09-18T21:27:35.819160Z"
    }
   },
   "cell_type": "code",
   "source": "df.columns",
   "id": "aceb863cc1bd9906",
   "outputs": [
    {
     "data": {
      "text/plain": [
       "Index(['NUM_TOTAL', 'NUM_SPEEDING', 'NUM_ALCOHOL', 'NUM_NOT_DISTRACTED',\n",
       "       'NUM_NO_PREVIOUS', 'NUM_INS_PREMIUM', 'NUM_INS_LOSSES', 'ABBREV'],\n",
       "      dtype='object')"
      ]
     },
     "execution_count": 15,
     "metadata": {},
     "output_type": "execute_result"
    }
   ],
   "execution_count": 15
  },
  {
   "metadata": {},
   "cell_type": "code",
   "outputs": [],
   "execution_count": null,
   "source": "",
   "id": "e1766c197a26e2b3"
  }
 ],
 "metadata": {
  "kernelspec": {
   "display_name": "Python 3",
   "language": "python",
   "name": "python3"
  },
  "language_info": {
   "codemirror_mode": {
    "name": "ipython",
    "version": 2
   },
   "file_extension": ".py",
   "mimetype": "text/x-python",
   "name": "python",
   "nbconvert_exporter": "python",
   "pygments_lexer": "ipython2",
   "version": "2.7.6"
  }
 },
 "nbformat": 4,
 "nbformat_minor": 5
}
