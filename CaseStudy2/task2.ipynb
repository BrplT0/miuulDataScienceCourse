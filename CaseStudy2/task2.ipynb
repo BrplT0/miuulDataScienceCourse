{
 "cells": [
  {
   "cell_type": "code",
   "id": "initial_id",
   "metadata": {
    "collapsed": true,
    "ExecuteTime": {
     "end_time": "2025-09-18T21:29:55.182884Z",
     "start_time": "2025-09-18T21:29:55.164097Z"
    }
   },
   "source": [
    "import seaborn as sns\n",
    "\n",
    "df = sns.load_dataset(\"car_crashes\")\n",
    "df.columns"
   ],
   "outputs": [
    {
     "data": {
      "text/plain": [
       "Index(['total', 'speeding', 'alcohol', 'not_distracted', 'no_previous',\n",
       "       'ins_premium', 'ins_losses', 'abbrev'],\n",
       "      dtype='object')"
      ]
     },
     "execution_count": 12,
     "metadata": {},
     "output_type": "execute_result"
    }
   ],
   "execution_count": 12
  },
  {
   "metadata": {
    "ExecuteTime": {
     "end_time": "2025-09-18T21:29:55.205727Z",
     "start_time": "2025-09-18T21:29:55.200432Z"
    }
   },
   "cell_type": "code",
   "source": [
    "df.columns = df.columns.str.upper()\n",
    "df.columns = [f\"{col}_FLAG\" if \"NO\" not in col else col for col in df.columns]"
   ],
   "id": "2dc4e866fed5f5b1",
   "outputs": [],
   "execution_count": 13
  },
  {
   "metadata": {
    "ExecuteTime": {
     "end_time": "2025-09-18T21:29:55.249441Z",
     "start_time": "2025-09-18T21:29:55.241325Z"
    }
   },
   "cell_type": "code",
   "source": "df.columns",
   "id": "e3219d1fc053f2e2",
   "outputs": [
    {
     "data": {
      "text/plain": [
       "Index(['TOTAL_FLAG', 'SPEEDING_FLAG', 'ALCOHOL_FLAG', 'NOT_DISTRACTED',\n",
       "       'NO_PREVIOUS', 'INS_PREMIUM_FLAG', 'INS_LOSSES_FLAG', 'ABBREV_FLAG'],\n",
       "      dtype='object')"
      ]
     },
     "execution_count": 14,
     "metadata": {},
     "output_type": "execute_result"
    }
   ],
   "execution_count": 14
  },
  {
   "metadata": {
    "ExecuteTime": {
     "end_time": "2025-09-18T21:30:08.911954Z",
     "start_time": "2025-09-18T21:30:08.892870Z"
    }
   },
   "cell_type": "code",
   "source": "df.head()",
   "id": "4a6909ca02ba97f",
   "outputs": [
    {
     "data": {
      "text/plain": [
       "   TOTAL_FLAG  SPEEDING_FLAG  ALCOHOL_FLAG  NOT_DISTRACTED  NO_PREVIOUS  \\\n",
       "0        18.8          7.332         5.640          18.048       15.040   \n",
       "1        18.1          7.421         4.525          16.290       17.014   \n",
       "2        18.6          6.510         5.208          15.624       17.856   \n",
       "3        22.4          4.032         5.824          21.056       21.280   \n",
       "4        12.0          4.200         3.360          10.920       10.680   \n",
       "\n",
       "   INS_PREMIUM_FLAG  INS_LOSSES_FLAG ABBREV_FLAG  \n",
       "0            784.55           145.08          AL  \n",
       "1           1053.48           133.93          AK  \n",
       "2            899.47           110.35          AZ  \n",
       "3            827.34           142.39          AR  \n",
       "4            878.41           165.63          CA  "
      ],
      "text/html": [
       "<div>\n",
       "<style scoped>\n",
       "    .dataframe tbody tr th:only-of-type {\n",
       "        vertical-align: middle;\n",
       "    }\n",
       "\n",
       "    .dataframe tbody tr th {\n",
       "        vertical-align: top;\n",
       "    }\n",
       "\n",
       "    .dataframe thead th {\n",
       "        text-align: right;\n",
       "    }\n",
       "</style>\n",
       "<table border=\"1\" class=\"dataframe\">\n",
       "  <thead>\n",
       "    <tr style=\"text-align: right;\">\n",
       "      <th></th>\n",
       "      <th>TOTAL_FLAG</th>\n",
       "      <th>SPEEDING_FLAG</th>\n",
       "      <th>ALCOHOL_FLAG</th>\n",
       "      <th>NOT_DISTRACTED</th>\n",
       "      <th>NO_PREVIOUS</th>\n",
       "      <th>INS_PREMIUM_FLAG</th>\n",
       "      <th>INS_LOSSES_FLAG</th>\n",
       "      <th>ABBREV_FLAG</th>\n",
       "    </tr>\n",
       "  </thead>\n",
       "  <tbody>\n",
       "    <tr>\n",
       "      <th>0</th>\n",
       "      <td>18.8</td>\n",
       "      <td>7.332</td>\n",
       "      <td>5.640</td>\n",
       "      <td>18.048</td>\n",
       "      <td>15.040</td>\n",
       "      <td>784.55</td>\n",
       "      <td>145.08</td>\n",
       "      <td>AL</td>\n",
       "    </tr>\n",
       "    <tr>\n",
       "      <th>1</th>\n",
       "      <td>18.1</td>\n",
       "      <td>7.421</td>\n",
       "      <td>4.525</td>\n",
       "      <td>16.290</td>\n",
       "      <td>17.014</td>\n",
       "      <td>1053.48</td>\n",
       "      <td>133.93</td>\n",
       "      <td>AK</td>\n",
       "    </tr>\n",
       "    <tr>\n",
       "      <th>2</th>\n",
       "      <td>18.6</td>\n",
       "      <td>6.510</td>\n",
       "      <td>5.208</td>\n",
       "      <td>15.624</td>\n",
       "      <td>17.856</td>\n",
       "      <td>899.47</td>\n",
       "      <td>110.35</td>\n",
       "      <td>AZ</td>\n",
       "    </tr>\n",
       "    <tr>\n",
       "      <th>3</th>\n",
       "      <td>22.4</td>\n",
       "      <td>4.032</td>\n",
       "      <td>5.824</td>\n",
       "      <td>21.056</td>\n",
       "      <td>21.280</td>\n",
       "      <td>827.34</td>\n",
       "      <td>142.39</td>\n",
       "      <td>AR</td>\n",
       "    </tr>\n",
       "    <tr>\n",
       "      <th>4</th>\n",
       "      <td>12.0</td>\n",
       "      <td>4.200</td>\n",
       "      <td>3.360</td>\n",
       "      <td>10.920</td>\n",
       "      <td>10.680</td>\n",
       "      <td>878.41</td>\n",
       "      <td>165.63</td>\n",
       "      <td>CA</td>\n",
       "    </tr>\n",
       "  </tbody>\n",
       "</table>\n",
       "</div>"
      ]
     },
     "execution_count": 15,
     "metadata": {},
     "output_type": "execute_result"
    }
   ],
   "execution_count": 15
  },
  {
   "metadata": {},
   "cell_type": "code",
   "outputs": [],
   "execution_count": null,
   "source": "",
   "id": "e4da852d56622093"
  }
 ],
 "metadata": {
  "kernelspec": {
   "display_name": "Python 3",
   "language": "python",
   "name": "python3"
  },
  "language_info": {
   "codemirror_mode": {
    "name": "ipython",
    "version": 2
   },
   "file_extension": ".py",
   "mimetype": "text/x-python",
   "name": "python",
   "nbconvert_exporter": "python",
   "pygments_lexer": "ipython2",
   "version": "2.7.6"
  }
 },
 "nbformat": 4,
 "nbformat_minor": 5
}
